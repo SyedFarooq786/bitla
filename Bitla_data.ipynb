{
 "cells": [
  {
   "cell_type": "markdown",
   "id": "e3f6cef2",
   "metadata": {
    "extensions": {
     "jupyter_dashboards": {
      "version": 1,
      "views": {
       "grid_default": {},
       "report_default": {
        "hidden": false
       }
      }
     }
    }
   },
   "source": [
    "##### Installing required libarires"
   ]
  },
  {
   "cell_type": "code",
   "execution_count": 1,
   "id": "cfd13a9d",
   "metadata": {
    "extensions": {
     "jupyter_dashboards": {
      "version": 1,
      "views": {
       "grid_default": {},
       "report_default": {
        "hidden": false
       }
      }
     }
    }
   },
   "outputs": [
    {
     "name": "stdout",
     "output_type": "stream",
     "text": [
      "Requirement already satisfied: pandas in c:\\users\\syed.farooq\\anaconda3\\lib\\site-packages (1.4.2)\n",
      "Requirement already satisfied: pytz>=2020.1 in c:\\users\\syed.farooq\\anaconda3\\lib\\site-packages (from pandas) (2021.3)\n",
      "Requirement already satisfied: python-dateutil>=2.8.1 in c:\\users\\syed.farooq\\anaconda3\\lib\\site-packages (from pandas) (2.8.2)\n",
      "Requirement already satisfied: numpy>=1.18.5 in c:\\users\\syed.farooq\\anaconda3\\lib\\site-packages (from pandas) (1.21.5)\n",
      "Requirement already satisfied: six>=1.5 in c:\\users\\syed.farooq\\anaconda3\\lib\\site-packages (from python-dateutil>=2.8.1->pandas) (1.16.0)\n",
      "Note: you may need to restart the kernel to use updated packages.\n"
     ]
    }
   ],
   "source": [
    "pip install pandas"
   ]
  },
  {
   "cell_type": "code",
   "execution_count": 2,
   "id": "46d14d47",
   "metadata": {
    "extensions": {
     "jupyter_dashboards": {
      "version": 1,
      "views": {
       "grid_default": {},
       "report_default": {
        "hidden": false
       }
      }
     }
    }
   },
   "outputs": [
    {
     "name": "stdout",
     "output_type": "stream",
     "text": [
      "Requirement already satisfied: matplotlib in c:\\users\\syed.farooq\\anaconda3\\lib\\site-packages (3.5.1)\n",
      "Requirement already satisfied: numpy>=1.17 in c:\\users\\syed.farooq\\anaconda3\\lib\\site-packages (from matplotlib) (1.21.5)\n",
      "Requirement already satisfied: packaging>=20.0 in c:\\users\\syed.farooq\\anaconda3\\lib\\site-packages (from matplotlib) (21.3)\n",
      "Requirement already satisfied: pyparsing>=2.2.1 in c:\\users\\syed.farooq\\anaconda3\\lib\\site-packages (from matplotlib) (3.0.4)\n",
      "Requirement already satisfied: python-dateutil>=2.7 in c:\\users\\syed.farooq\\anaconda3\\lib\\site-packages (from matplotlib) (2.8.2)\n",
      "Requirement already satisfied: pillow>=6.2.0 in c:\\users\\syed.farooq\\anaconda3\\lib\\site-packages (from matplotlib) (9.0.1)\n",
      "Requirement already satisfied: cycler>=0.10 in c:\\users\\syed.farooq\\anaconda3\\lib\\site-packages (from matplotlib) (0.11.0)\n",
      "Requirement already satisfied: fonttools>=4.22.0 in c:\\users\\syed.farooq\\anaconda3\\lib\\site-packages (from matplotlib) (4.25.0)\n",
      "Requirement already satisfied: kiwisolver>=1.0.1 in c:\\users\\syed.farooq\\anaconda3\\lib\\site-packages (from matplotlib) (1.3.2)\n",
      "Requirement already satisfied: six>=1.5 in c:\\users\\syed.farooq\\anaconda3\\lib\\site-packages (from python-dateutil>=2.7->matplotlib) (1.16.0)\n",
      "Note: you may need to restart the kernel to use updated packages.\n"
     ]
    }
   ],
   "source": [
    "pip install matplotlib"
   ]
  },
  {
   "cell_type": "code",
   "execution_count": 3,
   "id": "b57c3a77",
   "metadata": {
    "extensions": {
     "jupyter_dashboards": {
      "version": 1,
      "views": {
       "grid_default": {},
       "report_default": {
        "hidden": false
       }
      }
     }
    }
   },
   "outputs": [
    {
     "name": "stdout",
     "output_type": "stream",
     "text": [
      "Requirement already satisfied: pywedge in c:\\users\\syed.farooq\\anaconda3\\lib\\site-packages (0.5.1.8)\n",
      "Requirement already satisfied: ipywidgets in c:\\users\\syed.farooq\\anaconda3\\lib\\site-packages (from pywedge) (7.6.5)\n",
      "Requirement already satisfied: numpy in c:\\users\\syed.farooq\\anaconda3\\lib\\site-packages (from pywedge) (1.21.5)\n",
      "Requirement already satisfied: pandas in c:\\users\\syed.farooq\\anaconda3\\lib\\site-packages (from pywedge) (1.4.2)\n",
      "Requirement already satisfied: tqdm in c:\\users\\syed.farooq\\anaconda3\\lib\\site-packages (from pywedge) (4.64.0)\n",
      "Requirement already satisfied: scikit-learn in c:\\users\\syed.farooq\\anaconda3\\lib\\site-packages (from pywedge) (1.1.1)\n",
      "Requirement already satisfied: catboost>0.24 in c:\\users\\syed.farooq\\anaconda3\\lib\\site-packages (from pywedge) (1.0.6)\n",
      "Requirement already satisfied: imbalanced-learn in c:\\users\\syed.farooq\\anaconda3\\lib\\site-packages (from pywedge) (0.9.1)\n",
      "Requirement already satisfied: xgboost in c:\\users\\syed.farooq\\anaconda3\\lib\\site-packages (from pywedge) (1.6.1)\n",
      "Requirement already satisfied: plotly in c:\\users\\syed.farooq\\anaconda3\\lib\\site-packages (from pywedge) (5.6.0)\n",
      "Requirement already satisfied: graphviz in c:\\users\\syed.farooq\\anaconda3\\lib\\site-packages (from catboost>0.24->pywedge) (0.20.1)\n",
      "Requirement already satisfied: six in c:\\users\\syed.farooq\\anaconda3\\lib\\site-packages (from catboost>0.24->pywedge) (1.16.0)\n",
      "Requirement already satisfied: matplotlib in c:\\users\\syed.farooq\\anaconda3\\lib\\site-packages (from catboost>0.24->pywedge) (3.5.1)\n",
      "Requirement already satisfied: scipy in c:\\users\\syed.farooq\\anaconda3\\lib\\site-packages (from catboost>0.24->pywedge) (1.7.3)\n",
      "Requirement already satisfied: pytz>=2020.1 in c:\\users\\syed.farooq\\anaconda3\\lib\\site-packages (from pandas->pywedge) (2021.3)\n",
      "Requirement already satisfied: python-dateutil>=2.8.1 in c:\\users\\syed.farooq\\anaconda3\\lib\\site-packages (from pandas->pywedge) (2.8.2)\n",
      "Requirement already satisfied: threadpoolctl>=2.0.0 in c:\\users\\syed.farooq\\anaconda3\\lib\\site-packages (from imbalanced-learn->pywedge) (2.2.0)\n",
      "Requirement already satisfied: joblib>=1.0.0 in c:\\users\\syed.farooq\\anaconda3\\lib\\site-packages (from imbalanced-learn->pywedge) (1.1.0)\n",
      "Requirement already satisfied: widgetsnbextension~=3.5.0 in c:\\users\\syed.farooq\\anaconda3\\lib\\site-packages (from ipywidgets->pywedge) (3.5.2)\n",
      "Requirement already satisfied: ipython-genutils~=0.2.0 in c:\\users\\syed.farooq\\anaconda3\\lib\\site-packages (from ipywidgets->pywedge) (0.2.0)\n",
      "Requirement already satisfied: traitlets>=4.3.1 in c:\\users\\syed.farooq\\anaconda3\\lib\\site-packages (from ipywidgets->pywedge) (5.1.1)\n",
      "Requirement already satisfied: ipykernel>=4.5.1 in c:\\users\\syed.farooq\\anaconda3\\lib\\site-packages (from ipywidgets->pywedge) (6.9.1)\n",
      "Requirement already satisfied: ipython>=4.0.0 in c:\\users\\syed.farooq\\anaconda3\\lib\\site-packages (from ipywidgets->pywedge) (8.2.0)\n",
      "Requirement already satisfied: nbformat>=4.2.0 in c:\\users\\syed.farooq\\anaconda3\\lib\\site-packages (from ipywidgets->pywedge) (5.3.0)\n",
      "Requirement already satisfied: jupyterlab-widgets>=1.0.0 in c:\\users\\syed.farooq\\anaconda3\\lib\\site-packages (from ipywidgets->pywedge) (1.0.0)\n",
      "Requirement already satisfied: nest-asyncio in c:\\users\\syed.farooq\\anaconda3\\lib\\site-packages (from ipykernel>=4.5.1->ipywidgets->pywedge) (1.5.5)\n",
      "Requirement already satisfied: tornado<7.0,>=4.2 in c:\\users\\syed.farooq\\anaconda3\\lib\\site-packages (from ipykernel>=4.5.1->ipywidgets->pywedge) (6.1)\n",
      "Requirement already satisfied: debugpy<2.0,>=1.0.0 in c:\\users\\syed.farooq\\anaconda3\\lib\\site-packages (from ipykernel>=4.5.1->ipywidgets->pywedge) (1.5.1)\n",
      "Requirement already satisfied: matplotlib-inline<0.2.0,>=0.1.0 in c:\\users\\syed.farooq\\anaconda3\\lib\\site-packages (from ipykernel>=4.5.1->ipywidgets->pywedge) (0.1.2)\n",
      "Requirement already satisfied: jupyter-client<8.0 in c:\\users\\syed.farooq\\anaconda3\\lib\\site-packages (from ipykernel>=4.5.1->ipywidgets->pywedge) (6.1.12)\n",
      "Requirement already satisfied: pygments>=2.4.0 in c:\\users\\syed.farooq\\anaconda3\\lib\\site-packages (from ipython>=4.0.0->ipywidgets->pywedge) (2.11.2)\n",
      "Requirement already satisfied: backcall in c:\\users\\syed.farooq\\anaconda3\\lib\\site-packages (from ipython>=4.0.0->ipywidgets->pywedge) (0.2.0)\n",
      "Requirement already satisfied: colorama in c:\\users\\syed.farooq\\anaconda3\\lib\\site-packages (from ipython>=4.0.0->ipywidgets->pywedge) (0.4.4)\n",
      "Requirement already satisfied: decorator in c:\\users\\syed.farooq\\anaconda3\\lib\\site-packages (from ipython>=4.0.0->ipywidgets->pywedge) (5.1.1)\n",
      "Requirement already satisfied: setuptools>=18.5 in c:\\users\\syed.farooq\\anaconda3\\lib\\site-packages (from ipython>=4.0.0->ipywidgets->pywedge) (61.2.0)\n",
      "Requirement already satisfied: jedi>=0.16 in c:\\users\\syed.farooq\\anaconda3\\lib\\site-packages (from ipython>=4.0.0->ipywidgets->pywedge) (0.18.1)\n",
      "Requirement already satisfied: prompt-toolkit!=3.0.0,!=3.0.1,<3.1.0,>=2.0.0 in c:\\users\\syed.farooq\\anaconda3\\lib\\site-packages (from ipython>=4.0.0->ipywidgets->pywedge) (3.0.20)\n",
      "Requirement already satisfied: pickleshare in c:\\users\\syed.farooq\\anaconda3\\lib\\site-packages (from ipython>=4.0.0->ipywidgets->pywedge) (0.7.5)\n",
      "Requirement already satisfied: stack-data in c:\\users\\syed.farooq\\anaconda3\\lib\\site-packages (from ipython>=4.0.0->ipywidgets->pywedge) (0.2.0)\n",
      "Requirement already satisfied: parso<0.9.0,>=0.8.0 in c:\\users\\syed.farooq\\anaconda3\\lib\\site-packages (from jedi>=0.16->ipython>=4.0.0->ipywidgets->pywedge) (0.8.3)\n",
      "Requirement already satisfied: pyzmq>=13 in c:\\users\\syed.farooq\\anaconda3\\lib\\site-packages (from jupyter-client<8.0->ipykernel>=4.5.1->ipywidgets->pywedge) (22.3.0)\n",
      "Requirement already satisfied: jupyter-core>=4.6.0 in c:\\users\\syed.farooq\\anaconda3\\lib\\site-packages (from jupyter-client<8.0->ipykernel>=4.5.1->ipywidgets->pywedge) (4.9.2)\n",
      "Requirement already satisfied: pywin32>=1.0 in c:\\users\\syed.farooq\\anaconda3\\lib\\site-packages (from jupyter-core>=4.6.0->jupyter-client<8.0->ipykernel>=4.5.1->ipywidgets->pywedge) (302)\n",
      "Requirement already satisfied: fastjsonschema in c:\\users\\syed.farooq\\anaconda3\\lib\\site-packages (from nbformat>=4.2.0->ipywidgets->pywedge) (2.15.1)\n",
      "Requirement already satisfied: jsonschema>=2.6 in c:\\users\\syed.farooq\\anaconda3\\lib\\site-packages (from nbformat>=4.2.0->ipywidgets->pywedge) (4.4.0)\n",
      "Requirement already satisfied: attrs>=17.4.0 in c:\\users\\syed.farooq\\anaconda3\\lib\\site-packages (from jsonschema>=2.6->nbformat>=4.2.0->ipywidgets->pywedge) (21.4.0)\n",
      "Requirement already satisfied: pyrsistent!=0.17.0,!=0.17.1,!=0.17.2,>=0.14.0 in c:\\users\\syed.farooq\\anaconda3\\lib\\site-packages (from jsonschema>=2.6->nbformat>=4.2.0->ipywidgets->pywedge) (0.18.0)\n",
      "Requirement already satisfied: wcwidth in c:\\users\\syed.farooq\\anaconda3\\lib\\site-packages (from prompt-toolkit!=3.0.0,!=3.0.1,<3.1.0,>=2.0.0->ipython>=4.0.0->ipywidgets->pywedge) (0.2.5)\n",
      "Requirement already satisfied: notebook>=4.4.1 in c:\\users\\syed.farooq\\anaconda3\\lib\\site-packages (from widgetsnbextension~=3.5.0->ipywidgets->pywedge) (6.4.8)\n",
      "Requirement already satisfied: jinja2 in c:\\users\\syed.farooq\\anaconda3\\lib\\site-packages (from notebook>=4.4.1->widgetsnbextension~=3.5.0->ipywidgets->pywedge) (2.11.3)\n",
      "Requirement already satisfied: nbconvert in c:\\users\\syed.farooq\\anaconda3\\lib\\site-packages (from notebook>=4.4.1->widgetsnbextension~=3.5.0->ipywidgets->pywedge) (6.4.4)\n",
      "Requirement already satisfied: prometheus-client in c:\\users\\syed.farooq\\anaconda3\\lib\\site-packages (from notebook>=4.4.1->widgetsnbextension~=3.5.0->ipywidgets->pywedge) (0.13.1)\n",
      "Requirement already satisfied: terminado>=0.8.3 in c:\\users\\syed.farooq\\anaconda3\\lib\\site-packages (from notebook>=4.4.1->widgetsnbextension~=3.5.0->ipywidgets->pywedge) (0.13.1)\n",
      "Requirement already satisfied: Send2Trash>=1.8.0 in c:\\users\\syed.farooq\\anaconda3\\lib\\site-packages (from notebook>=4.4.1->widgetsnbextension~=3.5.0->ipywidgets->pywedge) (1.8.0)\n",
      "Requirement already satisfied: argon2-cffi in c:\\users\\syed.farooq\\anaconda3\\lib\\site-packages (from notebook>=4.4.1->widgetsnbextension~=3.5.0->ipywidgets->pywedge) (21.3.0)\n",
      "Requirement already satisfied: pywinpty>=1.1.0 in c:\\users\\syed.farooq\\anaconda3\\lib\\site-packages (from terminado>=0.8.3->notebook>=4.4.1->widgetsnbextension~=3.5.0->ipywidgets->pywedge) (2.0.2)\n",
      "Requirement already satisfied: argon2-cffi-bindings in c:\\users\\syed.farooq\\anaconda3\\lib\\site-packages (from argon2-cffi->notebook>=4.4.1->widgetsnbextension~=3.5.0->ipywidgets->pywedge) (21.2.0)\n",
      "Requirement already satisfied: cffi>=1.0.1 in c:\\users\\syed.farooq\\anaconda3\\lib\\site-packages (from argon2-cffi-bindings->argon2-cffi->notebook>=4.4.1->widgetsnbextension~=3.5.0->ipywidgets->pywedge) (1.15.0)\n",
      "Requirement already satisfied: pycparser in c:\\users\\syed.farooq\\anaconda3\\lib\\site-packages (from cffi>=1.0.1->argon2-cffi-bindings->argon2-cffi->notebook>=4.4.1->widgetsnbextension~=3.5.0->ipywidgets->pywedge) (2.21)\n",
      "Requirement already satisfied: MarkupSafe>=0.23 in c:\\users\\syed.farooq\\anaconda3\\lib\\site-packages (from jinja2->notebook>=4.4.1->widgetsnbextension~=3.5.0->ipywidgets->pywedge) (2.0.1)\n",
      "Requirement already satisfied: fonttools>=4.22.0 in c:\\users\\syed.farooq\\anaconda3\\lib\\site-packages (from matplotlib->catboost>0.24->pywedge) (4.25.0)\n",
      "Requirement already satisfied: pyparsing>=2.2.1 in c:\\users\\syed.farooq\\anaconda3\\lib\\site-packages (from matplotlib->catboost>0.24->pywedge) (3.0.4)\n",
      "Requirement already satisfied: packaging>=20.0 in c:\\users\\syed.farooq\\anaconda3\\lib\\site-packages (from matplotlib->catboost>0.24->pywedge) (21.3)\n",
      "Requirement already satisfied: pillow>=6.2.0 in c:\\users\\syed.farooq\\anaconda3\\lib\\site-packages (from matplotlib->catboost>0.24->pywedge) (9.0.1)\n",
      "Requirement already satisfied: cycler>=0.10 in c:\\users\\syed.farooq\\anaconda3\\lib\\site-packages (from matplotlib->catboost>0.24->pywedge) (0.11.0)\n",
      "Requirement already satisfied: kiwisolver>=1.0.1 in c:\\users\\syed.farooq\\anaconda3\\lib\\site-packages (from matplotlib->catboost>0.24->pywedge) (1.3.2)\n",
      "Requirement already satisfied: bleach in c:\\users\\syed.farooq\\anaconda3\\lib\\site-packages (from nbconvert->notebook>=4.4.1->widgetsnbextension~=3.5.0->ipywidgets->pywedge) (4.1.0)\n",
      "Requirement already satisfied: nbclient<0.6.0,>=0.5.0 in c:\\users\\syed.farooq\\anaconda3\\lib\\site-packages (from nbconvert->notebook>=4.4.1->widgetsnbextension~=3.5.0->ipywidgets->pywedge) (0.5.13)\n",
      "Requirement already satisfied: beautifulsoup4 in c:\\users\\syed.farooq\\anaconda3\\lib\\site-packages (from nbconvert->notebook>=4.4.1->widgetsnbextension~=3.5.0->ipywidgets->pywedge) (4.11.1)\n",
      "Requirement already satisfied: testpath in c:\\users\\syed.farooq\\anaconda3\\lib\\site-packages (from nbconvert->notebook>=4.4.1->widgetsnbextension~=3.5.0->ipywidgets->pywedge) (0.5.0)\n",
      "Requirement already satisfied: jupyterlab-pygments in c:\\users\\syed.farooq\\anaconda3\\lib\\site-packages (from nbconvert->notebook>=4.4.1->widgetsnbextension~=3.5.0->ipywidgets->pywedge) (0.1.2)\n",
      "Requirement already satisfied: pandocfilters>=1.4.1 in c:\\users\\syed.farooq\\anaconda3\\lib\\site-packages (from nbconvert->notebook>=4.4.1->widgetsnbextension~=3.5.0->ipywidgets->pywedge) (1.5.0)\n",
      "Requirement already satisfied: mistune<2,>=0.8.1 in c:\\users\\syed.farooq\\anaconda3\\lib\\site-packages (from nbconvert->notebook>=4.4.1->widgetsnbextension~=3.5.0->ipywidgets->pywedge) (0.8.4)\n",
      "Requirement already satisfied: entrypoints>=0.2.2 in c:\\users\\syed.farooq\\anaconda3\\lib\\site-packages (from nbconvert->notebook>=4.4.1->widgetsnbextension~=3.5.0->ipywidgets->pywedge) (0.4)\n",
      "Requirement already satisfied: defusedxml in c:\\users\\syed.farooq\\anaconda3\\lib\\site-packages (from nbconvert->notebook>=4.4.1->widgetsnbextension~=3.5.0->ipywidgets->pywedge) (0.7.1)\n",
      "Requirement already satisfied: soupsieve>1.2 in c:\\users\\syed.farooq\\anaconda3\\lib\\site-packages (from beautifulsoup4->nbconvert->notebook>=4.4.1->widgetsnbextension~=3.5.0->ipywidgets->pywedge) (2.3.1)\n",
      "Requirement already satisfied: webencodings in c:\\users\\syed.farooq\\anaconda3\\lib\\site-packages (from bleach->nbconvert->notebook>=4.4.1->widgetsnbextension~=3.5.0->ipywidgets->pywedge) (0.5.1)\n",
      "Requirement already satisfied: tenacity>=6.2.0 in c:\\users\\syed.farooq\\anaconda3\\lib\\site-packages (from plotly->pywedge) (8.0.1)\n",
      "Requirement already satisfied: executing in c:\\users\\syed.farooq\\anaconda3\\lib\\site-packages (from stack-data->ipython>=4.0.0->ipywidgets->pywedge) (0.8.3)\n",
      "Requirement already satisfied: asttokens in c:\\users\\syed.farooq\\anaconda3\\lib\\site-packages (from stack-data->ipython>=4.0.0->ipywidgets->pywedge) (2.0.5)\n",
      "Requirement already satisfied: pure-eval in c:\\users\\syed.farooq\\anaconda3\\lib\\site-packages (from stack-data->ipython>=4.0.0->ipywidgets->pywedge) (0.2.2)\n",
      "Note: you may need to restart the kernel to use updated packages.\n"
     ]
    }
   ],
   "source": [
    "pip install pywedge"
   ]
  },
  {
   "cell_type": "markdown",
   "id": "a8bd661d",
   "metadata": {
    "extensions": {
     "jupyter_dashboards": {
      "version": 1,
      "views": {
       "grid_default": {},
       "report_default": {
        "hidden": false
       }
      }
     }
    }
   },
   "source": [
    "##### Importing libarires required"
   ]
  },
  {
   "cell_type": "code",
   "execution_count": 4,
   "id": "0ee17640",
   "metadata": {
    "extensions": {
     "jupyter_dashboards": {
      "version": 1,
      "views": {
       "grid_default": {},
       "report_default": {
        "hidden": true
       }
      }
     }
    }
   },
   "outputs": [],
   "source": [
    "import pandas as pd\n",
    "import numpy as np\n",
    "import matplotlib.pyplot as pp\n",
    "import seaborn\n",
    "import pywedge as pw"
   ]
  },
  {
   "cell_type": "code",
   "execution_count": 5,
   "id": "cd0949dd",
   "metadata": {
    "extensions": {
     "jupyter_dashboards": {
      "version": 1,
      "views": {
       "grid_default": {},
       "report_default": {
        "hidden": true
       }
      }
     }
    }
   },
   "outputs": [],
   "source": [
    "import os"
   ]
  },
  {
   "cell_type": "code",
   "execution_count": 6,
   "id": "55473a81",
   "metadata": {
    "extensions": {
     "jupyter_dashboards": {
      "version": 1,
      "views": {
       "grid_default": {},
       "report_default": {
        "hidden": false
       }
      }
     }
    }
   },
   "outputs": [
    {
     "data": {
      "text/plain": [
       "'C:\\\\Users\\\\syed.farooq'"
      ]
     },
     "execution_count": 6,
     "metadata": {},
     "output_type": "execute_result"
    }
   ],
   "source": [
    "os.getcwd()"
   ]
  },
  {
   "cell_type": "code",
   "execution_count": 7,
   "id": "62fe93dc",
   "metadata": {
    "extensions": {
     "jupyter_dashboards": {
      "version": 1,
      "views": {
       "grid_default": {},
       "report_default": {
        "hidden": true
       }
      }
     }
    }
   },
   "outputs": [],
   "source": [
    "os.chdir('C:\\project GDS')"
   ]
  },
  {
   "cell_type": "code",
   "execution_count": 8,
   "id": "a8b47360",
   "metadata": {
    "extensions": {
     "jupyter_dashboards": {
      "version": 1,
      "views": {
       "grid_default": {},
       "report_default": {
        "hidden": false
       }
      }
     }
    }
   },
   "outputs": [
    {
     "data": {
      "text/plain": [
       "'C:\\\\project GDS'"
      ]
     },
     "execution_count": 8,
     "metadata": {},
     "output_type": "execute_result"
    }
   ],
   "source": [
    "os.getcwd()"
   ]
  },
  {
   "cell_type": "code",
   "execution_count": 9,
   "id": "340c3a24",
   "metadata": {
    "extensions": {
     "jupyter_dashboards": {
      "version": 1,
      "views": {
       "grid_default": {},
       "report_default": {
        "hidden": true
       }
      }
     }
    }
   },
   "outputs": [],
   "source": [
    "bt=pd.read_csv('Bitla.csv')"
   ]
  },
  {
   "cell_type": "code",
   "execution_count": 10,
   "id": "a5c11c5c",
   "metadata": {
    "extensions": {
     "jupyter_dashboards": {
      "version": 1,
      "views": {
       "grid_default": {},
       "report_default": {
        "hidden": false
       }
      }
     }
    }
   },
   "outputs": [
    {
     "data": {
      "text/html": [
       "<div>\n",
       "<style scoped>\n",
       "    .dataframe tbody tr th:only-of-type {\n",
       "        vertical-align: middle;\n",
       "    }\n",
       "\n",
       "    .dataframe tbody tr th {\n",
       "        vertical-align: top;\n",
       "    }\n",
       "\n",
       "    .dataframe thead th {\n",
       "        text-align: right;\n",
       "    }\n",
       "</style>\n",
       "<table border=\"1\" class=\"dataframe\">\n",
       "  <thead>\n",
       "    <tr style=\"text-align: right;\">\n",
       "      <th></th>\n",
       "      <th>Months</th>\n",
       "      <th>Services</th>\n",
       "      <th>Contacts_received</th>\n",
       "      <th>Ration_per_1k_service</th>\n",
       "    </tr>\n",
       "  </thead>\n",
       "  <tbody>\n",
       "    <tr>\n",
       "      <th>0</th>\n",
       "      <td>Jan'21</td>\n",
       "      <td>178954</td>\n",
       "      <td>1,617</td>\n",
       "      <td>9.0</td>\n",
       "    </tr>\n",
       "    <tr>\n",
       "      <th>1</th>\n",
       "      <td>Feb'21</td>\n",
       "      <td>142965</td>\n",
       "      <td>1,142</td>\n",
       "      <td>8.0</td>\n",
       "    </tr>\n",
       "    <tr>\n",
       "      <th>2</th>\n",
       "      <td>Mar'21</td>\n",
       "      <td>212304</td>\n",
       "      <td>946</td>\n",
       "      <td>4.5</td>\n",
       "    </tr>\n",
       "    <tr>\n",
       "      <th>3</th>\n",
       "      <td>Apr'21</td>\n",
       "      <td>266478</td>\n",
       "      <td>1,032</td>\n",
       "      <td>3.9</td>\n",
       "    </tr>\n",
       "    <tr>\n",
       "      <th>4</th>\n",
       "      <td>May'21</td>\n",
       "      <td>52250</td>\n",
       "      <td>215</td>\n",
       "      <td>4.1</td>\n",
       "    </tr>\n",
       "  </tbody>\n",
       "</table>\n",
       "</div>"
      ],
      "text/plain": [
       "   Months  Services Contacts_received  Ration_per_1k_service\n",
       "0  Jan'21    178954             1,617                    9.0\n",
       "1  Feb'21    142965             1,142                    8.0\n",
       "2  Mar'21    212304               946                    4.5\n",
       "3  Apr'21    266478             1,032                    3.9\n",
       "4  May'21     52250               215                    4.1"
      ]
     },
     "execution_count": 10,
     "metadata": {},
     "output_type": "execute_result"
    }
   ],
   "source": [
    "bt.head()"
   ]
  },
  {
   "cell_type": "code",
   "execution_count": 11,
   "id": "08b188b6",
   "metadata": {
    "extensions": {
     "jupyter_dashboards": {
      "version": 1,
      "views": {
       "grid_default": {},
       "report_default": {
        "hidden": true
       }
      }
     }
    }
   },
   "outputs": [
    {
     "name": "stderr",
     "output_type": "stream",
     "text": [
      "C:\\Users\\syed.farooq\\Anaconda3\\lib\\site-packages\\pywedge\\pywedge.py:27: FutureWarning: In a future version of pandas all arguments of DataFrame.drop except for the argument 'labels' will be keyword-only.\n",
      "  self.X = self.train.drop(self.y,1)\n"
     ]
    }
   ],
   "source": [
    "bt1 = pw.Pywedge_Charts(bt, c=None ,y =\"Months\")"
   ]
  },
  {
   "cell_type": "code",
   "execution_count": 12,
   "id": "a7f44eaa",
   "metadata": {
    "extensions": {
     "jupyter_dashboards": {
      "version": 1,
      "views": {
       "grid_default": {},
       "report_default": {
        "hidden": false
       }
      }
     }
    }
   },
   "outputs": [
    {
     "data": {
      "application/vnd.jupyter.widget-view+json": {
       "model_id": "fe83c9f871a7400bb3982cbb404c7f0d",
       "version_major": 2,
       "version_minor": 0
      },
      "text/plain": [
       "HTML(value='<h2>Pywedge Make_Charts </h2>')"
      ]
     },
     "metadata": {},
     "output_type": "display_data"
    },
    {
     "data": {
      "application/vnd.jupyter.widget-view+json": {
       "model_id": "a9a7270b0db2445889c977160e749804",
       "version_major": 2,
       "version_minor": 0
      },
      "text/plain": [
       "Tab(children=(Output(), Output(), Output(), Output(), Output(), Output(), Output(), Output()), _titles={'0': '…"
      ]
     },
     "metadata": {},
     "output_type": "display_data"
    }
   ],
   "source": [
    "charts =bt1.make_charts()"
   ]
  },
  {
   "cell_type": "code",
   "execution_count": null,
   "id": "ba10a351",
   "metadata": {
    "extensions": {
     "jupyter_dashboards": {
      "version": 1,
      "views": {
       "grid_default": {},
       "report_default": {
        "hidden": true
       }
      }
     }
    }
   },
   "outputs": [],
   "source": []
  }
 ],
 "metadata": {
  "extensions": {
   "jupyter_dashboards": {
    "activeView": "report_default",
    "version": 1,
    "views": {
     "grid_default": {
      "name": "grid",
      "type": "grid"
     },
     "report_default": {
      "name": "report",
      "type": "report"
     }
    }
   }
  },
  "hide_input": false,
  "kernelspec": {
   "display_name": "Python 3 (ipykernel)",
   "language": "python",
   "name": "python3"
  },
  "language_info": {
   "codemirror_mode": {
    "name": "ipython",
    "version": 3
   },
   "file_extension": ".py",
   "mimetype": "text/x-python",
   "name": "python",
   "nbconvert_exporter": "python",
   "pygments_lexer": "ipython3",
   "version": "3.9.12"
  }
 },
 "nbformat": 4,
 "nbformat_minor": 5
}
